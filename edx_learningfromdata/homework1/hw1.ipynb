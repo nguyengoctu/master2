{
 "cells": [
  {
   "cell_type": "code",
   "execution_count": 10,
   "metadata": {},
   "outputs": [],
   "source": [
    "import numpy as np\n",
    "import random"
   ]
  },
  {
   "cell_type": "code",
   "execution_count": 11,
   "metadata": {},
   "outputs": [],
   "source": [
    "N_test = 10000\n",
    "X_test = np.random.uniform(-1, 1, (N_test, 3))\n",
    "X_test[:, 0] = 1.\n",
    "\n",
    "num_disagreement = 0\n",
    "iterations = 0"
   ]
  },
  {
   "cell_type": "code",
   "execution_count": 12,
   "metadata": {},
   "outputs": [],
   "source": [
    "# Calculate y\n",
    "def y_(f, X):\n",
    "    N = X.shape[0]\n",
    "    y = np.zeros(N)\n",
    "    for i in range(N):\n",
    "        if np.dot(f, X[i]) > 0:\n",
    "            y[i] = 1\n",
    "        if np.dot(f, X[i]) < 0:\n",
    "            y[i] = -1\n",
    "    return y"
   ]
  },
  {
   "cell_type": "code",
   "execution_count": 13,
   "metadata": {},
   "outputs": [
    {
     "name": "stdout",
     "output_type": "stream",
     "text": [
      "Test 0 completed\n",
      "Test 25 completed\n",
      "Test 50 completed\n",
      "Test 75 completed\n",
      "Test 100 completed\n",
      "Test 125 completed\n",
      "Test 150 completed\n",
      "Test 175 completed\n",
      "Test 200 completed\n",
      "Test 225 completed\n",
      "Test 250 completed\n",
      "Test 275 completed\n",
      "Test 300 completed\n",
      "Test 325 completed\n",
      "Test 350 completed\n",
      "Test 375 completed\n",
      "Test 400 completed\n",
      "Test 425 completed\n",
      "Test 450 completed\n",
      "Test 475 completed\n",
      "Test 500 completed\n",
      "Test 525 completed\n",
      "Test 550 completed\n",
      "Test 575 completed\n",
      "Test 600 completed\n",
      "Test 625 completed\n",
      "Test 650 completed\n",
      "Test 675 completed\n",
      "Test 700 completed\n",
      "Test 725 completed\n",
      "Test 750 completed\n",
      "Test 775 completed\n",
      "Test 800 completed\n",
      "Test 825 completed\n",
      "Test 850 completed\n",
      "Test 875 completed\n",
      "Test 900 completed\n",
      "Test 925 completed\n",
      "Test 950 completed\n",
      "Test 975 completed\n"
     ]
    }
   ],
   "source": [
    "for test in range(1000):\n",
    "    # choose random line as target function in [-1, 1]x[-1, 1] region\n",
    "    # f = w0 + w1.x1 + w2.x2\n",
    "    # pick a random point (x1, x2)\n",
    "    [x1, x2, w1, w2] = np.random.uniform(-1, 1, 4)\n",
    "    w0 = -w1 * x1 - w2 * x2\n",
    "    f = [w0, w1, w2]\n",
    "    \n",
    "    # Create dataset\n",
    "    N = 100\n",
    "    X = np.random.uniform(-1, 1, (N, 3))\n",
    "    # Set all values in 1st column to 1.0\n",
    "    X[:, 0] = 1.\n",
    "    y = y_(f, X)\n",
    "    w = [0., 0., 0.]\n",
    "    \n",
    "    # PLA\n",
    "\n",
    "    while True:\n",
    "        # Create misclassified set from X\n",
    "        X_index_misclassified = []\n",
    "        y_w = y_(w, X)\n",
    "        for i in range(N):\n",
    "            if y[i] != y_w[i]:\n",
    "                X_index_misclassified.append(i)\n",
    "\n",
    "        # If X_index_misclassified is empty -> return w as g\n",
    "        if not X_index_misclassified:\n",
    "            break\n",
    "        else:\n",
    "            iterations += 1\n",
    "            # Pick a random misclassified point\n",
    "            misclassified_point = random.choice(X_index_misclassified)\n",
    "\n",
    "            # Update w\n",
    "            w = w + y[misclassified_point] * X[misclassified_point]\n",
    "    \n",
    "    # Disagreement between f and g\n",
    "    y_f = y_(f, X_test)\n",
    "    y_g = y_(w, X_test)\n",
    "\n",
    "    for i in range(N_test):\n",
    "        if y_f[i] != y_g[i]:\n",
    "            num_disagreement += 1\n",
    "    \n",
    "    if test % 25 == 0:\n",
    "        print(\"Test \" + str(test) + \" completed\")"
   ]
  },
  {
   "cell_type": "code",
   "execution_count": 14,
   "metadata": {},
   "outputs": [
    {
     "name": "stdout",
     "output_type": "stream",
     "text": [
      "Average iterations:  87.191\n",
      "Average disagreement percentage:  0.0130241\n"
     ]
    }
   ],
   "source": [
    "print(\"Average iterations: \",iterations / 1000)\n",
    "print(\"Average disagreement percentage: \",num_disagreement / (N_test * 1000))"
   ]
  },
  {
   "cell_type": "code",
   "execution_count": null,
   "metadata": {},
   "outputs": [],
   "source": []
  }
 ],
 "metadata": {
  "kernelspec": {
   "display_name": "Python 3",
   "language": "python",
   "name": "python3"
  },
  "language_info": {
   "codemirror_mode": {
    "name": "ipython",
    "version": 3
   },
   "file_extension": ".py",
   "mimetype": "text/x-python",
   "name": "python",
   "nbconvert_exporter": "python",
   "pygments_lexer": "ipython3",
   "version": "3.5.2"
  }
 },
 "nbformat": 4,
 "nbformat_minor": 2
}
