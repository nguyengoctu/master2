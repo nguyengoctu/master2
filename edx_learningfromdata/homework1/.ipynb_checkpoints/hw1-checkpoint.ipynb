{
 "cells": [
  {
   "cell_type": "code",
   "execution_count": 1,
   "metadata": {},
   "outputs": [],
   "source": [
    "import numpy as np\n",
    "import random"
   ]
  },
  {
   "cell_type": "code",
   "execution_count": 2,
   "metadata": {},
   "outputs": [],
   "source": [
    "N_test = 10000\n",
    "X_test = np.random.uniform(-1, 1, (N_test, 3))\n",
    "X_test[:, 0] = 1.\n",
    "\n",
    "num_disagreement = 0\n",
    "iterations = 0"
   ]
  },
  {
   "cell_type": "code",
   "execution_count": null,
   "metadata": {},
   "outputs": [],
   "source": [
    "# Calculate y\n",
    "def y_(f, X):\n",
    "    N = X.shape[0]\n",
    "    y = np.zeros(N)\n",
    "    for i in range(N):\n",
    "        if np.dot(f, X[i]) > 0:\n",
    "            y[i] = 1\n",
    "        if np.dot(f, X[i]) < 0:\n",
    "            y[i] = -1\n",
    "    return y"
   ]
  },
  {
   "cell_type": "code",
   "execution_count": null,
   "metadata": {},
   "outputs": [
    {
     "name": "stdout",
     "output_type": "stream",
     "text": [
      "Test0completed\n",
      "Test25completed\n",
      "Test50completed\n",
      "Test75completed\n",
      "Test100completed\n",
      "Test125completed\n",
      "Test150completed\n",
      "Test175completed\n",
      "Test200completed\n",
      "Test225completed\n",
      "Test250completed\n",
      "Test275completed\n",
      "Test300completed\n",
      "Test325completed\n",
      "Test350completed\n",
      "Test375completed\n",
      "Test400completed\n",
      "Test425completed\n",
      "Test450completed\n",
      "Test475completed\n",
      "Test500completed\n",
      "Test525completed\n",
      "Test550completed\n",
      "Test575completed\n",
      "Test600completed\n"
     ]
    }
   ],
   "source": [
    "for test in range(1000):\n",
    "    # choose random line as target function in [-1, 1]x[-1, 1] region\n",
    "    # f = w0 + w1.x1 + w2.x2\n",
    "    # pick a random point (x1, x2)\n",
    "    [x1, x2, w1, w2] = np.random.uniform(-1, 1, 4)\n",
    "    w0 = -w1 * x1 - w2 * x2\n",
    "    f = [w0, w1, w2]\n",
    "    \n",
    "    # Create dataset\n",
    "    N = 10\n",
    "    X = np.random.uniform(-1, 1, (N, 3))\n",
    "    # Set all values in 1st column to 1.0\n",
    "    X[:, 0] = 1.\n",
    "    y = y_(f, X)\n",
    "    w = [0., 0., 0.]\n",
    "    \n",
    "    # PLA\n",
    "\n",
    "    while True:\n",
    "        # Create misclassified set from X\n",
    "        X_index_misclassified = []\n",
    "        y_w = y_(w, X)\n",
    "        for i in range(N):\n",
    "            if y[i] != y_w[i]:\n",
    "                X_index_misclassified.append(i)\n",
    "\n",
    "        # If X_index_misclassified is empty -> return w as g\n",
    "        if not X_index_misclassified:\n",
    "            break\n",
    "        else:\n",
    "            iterations += 1\n",
    "            # Pick a random misclassified point\n",
    "            misclassified_point = random.choice(X_index_misclassified)\n",
    "\n",
    "            # Update w\n",
    "            w = w + y[misclassified_point] * X[misclassified_point]\n",
    "    \n",
    "    # Disagreement between f and g\n",
    "    y_f = y_(f, X_test)\n",
    "    y_g = y_(w, X_test)\n",
    "\n",
    "    for i in range(N_test):\n",
    "        if y_f[i] != y_g[i]:\n",
    "            num_disagreement += 1\n",
    "    \n",
    "    if test % 25 == 0:\n",
    "        print(\"Test\" + str(test) + \"completed\")"
   ]
  },
  {
   "cell_type": "code",
   "execution_count": null,
   "metadata": {},
   "outputs": [],
   "source": [
    "print(\"Average iterations: \" + iterations / 1000)\n",
    "print(\"Average disagreement percentage: \" + num_disagreement / (N_test * 1000))"
   ]
  }
 ],
 "metadata": {
  "kernelspec": {
   "display_name": "Python 3",
   "language": "python",
   "name": "python3"
  },
  "language_info": {
   "codemirror_mode": {
    "name": "ipython",
    "version": 3
   },
   "file_extension": ".py",
   "mimetype": "text/x-python",
   "name": "python",
   "nbconvert_exporter": "python",
   "pygments_lexer": "ipython3",
   "version": "3.5.2"
  }
 },
 "nbformat": 4,
 "nbformat_minor": 2
}
