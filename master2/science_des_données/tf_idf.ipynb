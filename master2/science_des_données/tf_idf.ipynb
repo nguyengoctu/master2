{
 "cells": [
  {
   "cell_type": "code",
   "execution_count": 11,
   "metadata": {},
   "outputs": [],
   "source": [
    "import numpy as np\n",
    "import re\n",
    "\n",
    "from collections import defaultdict\n",
    "\n",
    "corpus = [\"aaa bbb! ccc aaa eee aaa ggg.\", \"ggg fff eee.\", \"ddd aaa ggg aaa eee.\"]\n",
    "\n",
    "def split_into_words(d):\n",
    "    d = re.sub(r\"\\W+\", \" \", d)\n",
    "    return d.split()\n",
    "\n",
    "vocabulary = defaultdict()\n",
    "vocabulary.default_factory = lambda: len(vocabulary)\n",
    "\n",
    "def docs2num(corpus, voc):\n",
    "    for doc in corpus:\n",
    "        yield [vocabulary[word] for word in split_into_words(doc)]\n",
    "\n",
    "docs = list(docs2num(corpus,vocabulary))"
   ]
  },
  {
   "cell_type": "code",
   "execution_count": 12,
   "metadata": {},
   "outputs": [
    {
     "data": {
      "text/plain": [
       "['aaa', 'bbb', 'ccc', 'aaa', 'eee', 'aaa', 'ggg']"
      ]
     },
     "execution_count": 12,
     "metadata": {},
     "output_type": "execute_result"
    }
   ],
   "source": [
    "split_into_words(corpus[0])"
   ]
  },
  {
   "cell_type": "code",
   "execution_count": 13,
   "metadata": {},
   "outputs": [
    {
     "data": {
      "text/plain": [
       "defaultdict(<function __main__.<lambda>>,\n",
       "            {'aaa': 0,\n",
       "             'bbb': 1,\n",
       "             'ccc': 2,\n",
       "             'ddd': 6,\n",
       "             'eee': 3,\n",
       "             'fff': 5,\n",
       "             'ggg': 4})"
      ]
     },
     "execution_count": 13,
     "metadata": {},
     "output_type": "execute_result"
    }
   ],
   "source": [
    "vocabulary"
   ]
  },
  {
   "cell_type": "code",
   "execution_count": 23,
   "metadata": {},
   "outputs": [
    {
     "data": {
      "text/plain": [
       "array([ 3.,  1.,  1.,  1.,  1.,  0.,  0.])"
      ]
     },
     "execution_count": 23,
     "metadata": {},
     "output_type": "execute_result"
    }
   ],
   "source": [
    "docs0 = np.zeros((len(docs[0]), nbWords))\n",
    "docs0[np.arange(len(docs[0])), docs[0]] = 1\n",
    "docs0\n",
    "np.sum(docs0, axis=0)"
   ]
  },
  {
   "cell_type": "code",
   "execution_count": 15,
   "metadata": {},
   "outputs": [],
   "source": [
    "# Create the doc-term matrix\n",
    "nbDocs = len(docs)\n",
    "nbWords = len(vocabulary)\n",
    "\n",
    "docTermMatrix = np.zeros((nbDocs, nbWords), dtype=int)"
   ]
  },
  {
   "cell_type": "code",
   "execution_count": 7,
   "metadata": {},
   "outputs": [
    {
     "data": {
      "text/plain": [
       "array([[0, 0, 0, 0, 0, 0, 0],\n",
       "       [0, 0, 0, 0, 0, 0, 0],\n",
       "       [0, 0, 0, 0, 0, 0, 0]])"
      ]
     },
     "execution_count": 7,
     "metadata": {},
     "output_type": "execute_result"
    }
   ],
   "source": [
    "docTermMatrix"
   ]
  },
  {
   "cell_type": "code",
   "execution_count": 18,
   "metadata": {},
   "outputs": [],
   "source": [
    "for idx, d in enumerate(docs):\n",
    "    for w_num in d:\n",
    "        docTermMatrix[idx, w_num] += 1"
   ]
  },
  {
   "cell_type": "code",
   "execution_count": 19,
   "metadata": {},
   "outputs": [
    {
     "data": {
      "text/plain": [
       "array([[3, 1, 1, 1, 1, 0, 0],\n",
       "       [0, 0, 0, 1, 1, 1, 0],\n",
       "       [2, 0, 0, 1, 1, 0, 1]])"
      ]
     },
     "execution_count": 19,
     "metadata": {},
     "output_type": "execute_result"
    }
   ],
   "source": [
    "docTermMatrix"
   ]
  },
  {
   "cell_type": "code",
   "execution_count": 24,
   "metadata": {},
   "outputs": [
    {
     "data": {
      "text/plain": [
       "[[0, 1, 2, 0, 3, 0, 4], [4, 5, 3], [6, 0, 4, 0, 3]]"
      ]
     },
     "execution_count": 24,
     "metadata": {},
     "output_type": "execute_result"
    }
   ],
   "source": [
    "docs"
   ]
  },
  {
   "cell_type": "code",
   "execution_count": 28,
   "metadata": {},
   "outputs": [
    {
     "data": {
      "text/plain": [
       "['a', 'b', 'c', 'd1', 'e', 'f', 'g']"
      ]
     },
     "execution_count": 28,
     "metadata": {},
     "output_type": "execute_result"
    }
   ],
   "source": [
    "re.sub(r\"\\W+\", \" \", \"a b c d1 e f g.\").split()"
   ]
  },
  {
   "cell_type": "code",
   "execution_count": 42,
   "metadata": {},
   "outputs": [
    {
     "name": "stdout",
     "output_type": "stream",
     "text": [
      "before standardization\n",
      "distance between d1 and d2: 52.202\n",
      "distance between d1 and d3: 4.243\n",
      "\n",
      "after standardization\n",
      "distance between d1 and d2: 2.901\n",
      "distance between d1 and d3: 3.009\n",
      "\n"
     ]
    }
   ],
   "source": [
    "doc_1 = np.array([1, 2, 0, 0])\n",
    "doc_2 = np.array([50, 20, 0, 0])\n",
    "doc_3 = np.array([0, 0, 2, 3])\n",
    "\n",
    "print(\"before standardization\")\n",
    "print(\"distance between d1 and d2: {:.3f}\".format(np.linalg.norm(doc_1 - doc_2)))\n",
    "print(\"distance between d1 and d3: {:.3f}\".format(np.linalg.norm(doc_1 - doc_3)))\n",
    "print()\n",
    "\n",
    "m = np.vstack((doc_1, doc_2, doc_3))\n",
    "d = np.diag((1. / m.std(axis=0)))\n",
    "# standardize\n",
    "m = m.dot(d)\n",
    "\n",
    "print(\"after standardization\")\n",
    "print(\"distance between d1 and d2: {:.3f}\".format(np.linalg.norm(m[0] - m[1])))\n",
    "print(\"distance between d1 and d3: {:.3f}\".format(np.linalg.norm(m[0] - m[2])))\n",
    "print()"
   ]
  },
  {
   "cell_type": "code",
   "execution_count": null,
   "metadata": {},
   "outputs": [],
   "source": []
  }
 ],
 "metadata": {
  "kernelspec": {
   "display_name": "Python 3",
   "language": "python",
   "name": "python3"
  },
  "language_info": {
   "codemirror_mode": {
    "name": "ipython",
    "version": 3
   },
   "file_extension": ".py",
   "mimetype": "text/x-python",
   "name": "python",
   "nbconvert_exporter": "python",
   "pygments_lexer": "ipython3",
   "version": "3.6.2"
  }
 },
 "nbformat": 4,
 "nbformat_minor": 2
}
