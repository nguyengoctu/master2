{
 "cells": [
  {
   "cell_type": "code",
   "execution_count": 1,
   "metadata": {},
   "outputs": [],
   "source": [
    "import gensim"
   ]
  },
  {
   "cell_type": "code",
   "execution_count": 8,
   "metadata": {},
   "outputs": [],
   "source": [
    "sentences = ['Rabbits are small mammals', \n",
    "            'There are eight different genera in the family classified as rabbits',\n",
    "            'The male is called a buck and the female is a doe; a young rabbit is a kitten or kit',\n",
    "            'Male rabbits are called bucks; females are called does',\n",
    "            'A group of rabbis is known as a colony, or nest']"
   ]
  },
  {
   "cell_type": "code",
   "execution_count": 9,
   "metadata": {},
   "outputs": [
    {
     "name": "stderr",
     "output_type": "stream",
     "text": [
      "WARNING:gensim.models.word2vec:under 10 jobs per worker: consider setting a smaller `batch_words' for smoother alpha decay\n"
     ]
    },
    {
     "name": "stdout",
     "output_type": "stream",
     "text": [
      "['a', 'are', 'is', 'called', 'the', 'as', 'rabbits', 'or', 'Rabbits', 'small', 'mammals', 'There', 'eight', 'different', 'genera', 'in', 'family', 'classified', 'The', 'male', 'buck', 'and', 'female', 'doe;', 'young', 'rabbit', 'kitten', 'kit', 'Male', 'bucks;', 'females', 'does', 'A', 'group', 'of', 'rabbis', 'known', 'colony,', 'nest']\n"
     ]
    }
   ],
   "source": [
    "sentences = [s.split() for s in sentences]\n",
    "\n",
    "# default algorithm is cbow so we ste sg to 1\n",
    "# negative sampling is default so setting negative to n > 0 is not really necessary\n",
    "model = gensim.models.word2vec.Word2Vec(sentences, 4, window=2, min_count=0, workers=2, sg=1, negative=5)\n",
    "print(model.wv.index2word)"
   ]
  },
  {
   "cell_type": "code",
   "execution_count": 10,
   "metadata": {},
   "outputs": [],
   "source": [
    "sentences = gensim.models.word2vec.Text8Corpus('/tmp/text8')"
   ]
  },
  {
   "cell_type": "code",
   "execution_count": null,
   "metadata": {},
   "outputs": [],
   "source": []
  }
 ],
 "metadata": {
  "kernelspec": {
   "display_name": "Python 3",
   "language": "python",
   "name": "python3"
  },
  "language_info": {
   "codemirror_mode": {
    "name": "ipython",
    "version": 3
   },
   "file_extension": ".py",
   "mimetype": "text/x-python",
   "name": "python",
   "nbconvert_exporter": "python",
   "pygments_lexer": "ipython3",
   "version": "3.6.2"
  }
 },
 "nbformat": 4,
 "nbformat_minor": 2
}
